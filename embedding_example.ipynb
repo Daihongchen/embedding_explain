{
 "cells": [
  {
   "cell_type": "code",
   "execution_count": 1,
   "metadata": {},
   "outputs": [],
   "source": [
    "import pandas as pd\n",
    "import numpy as np\n",
    "import matplotlib.pyplot as plt\n",
    "import matplotlib.image as mpimg\n",
    "\n",
    "import tensorflow as tf\n",
    "from tensorflow import keras\n",
    "# from tensorflow.keras.layers import Conv2D, MaxPooling2D,  Dropout, Dense, Activation, BatchNormalization, Flatten\n",
    "from tensorflow.keras.callbacks import EarlyStopping\n",
    "# from tensorflow.keras.applications import vgg16, inception_v3, resnet50, mobilenet\n",
    "from tensorflow.keras.models import Model\n",
    "from tensorflow.keras.layers import Input, Reshape, Dot\n",
    "from tensorflow.keras.layers import Embedding\n",
    "from tensorflow.keras.optimizers import Adam\n",
    "from tensorflow.keras.regularizers import l2\n",
    "from sklearn.preprocessing import OneHotEncoder\n",
    "from sklearn.preprocessing import LabelEncoder\n",
    "from sklearn.model_selection import train_test_split\n",
    "import itertools"
   ]
  },
  {
   "cell_type": "markdown",
   "metadata": {},
   "source": [
    "# Purpose of this NoteBook\n",
    "\n",
    "This notebook presents a simple example of using keras embedding in the collaborative filtering recommender system. \n",
    "\n",
    "It displays the process of embedding and layer merge.\n",
    "\n",
    "It also shows the process of building a recommender system using the simple dataset."
   ]
  },
  {
   "cell_type": "markdown",
   "metadata": {},
   "source": [
    "### Create a Dataframe \n",
    "The table includes reviewer_id, movie_id, and ratings for each movie per reviewer\n",
    "\n",
    "    records = 20\n",
    "\n",
    "    the number of unique reviewers is 10\n",
    "\n",
    "    the number of unique movies is 6 \n"
   ]
  },
  {
   "cell_type": "code",
   "execution_count": 3,
   "metadata": {},
   "outputs": [],
   "source": [
    "d = {\"reviewer_id\": ['r_01', 'r_01', 'r_01', 'r_02', 'r_03', 'r_04', 'r_04', 'r_05', 'r_06', 'r_07', 'r_07', 'r_07', 'r_08', 'r_08', 'r_09', 'r_10', 'r_10', 'r_10', 'r_10', 'r_10'],\n",
    "    \"movie_id\":     ['m_01', 'm_03', 'm_04', 'm_05', 'm_01', 'm_02', 'm_04', 'm_01', 'm_03', 'm_03', 'm_04', 'm_06', 'm_02', 'm_03', 'm_05', 'm_01', 'm_03', 'm_04', 'm_05', 'm_06'],\n",
    "    \"rating\": [4, 5, 2, 3, 4, 5, 2, 3, 4, 5,  4, 3, 4, 5, 2, 1, 4, 5, 3, 5]}\n",
    "\n",
    "df=pd.DataFrame(d)"
   ]
  },
  {
   "cell_type": "code",
   "execution_count": 4,
   "metadata": {},
   "outputs": [
    {
     "data": {
      "text/html": [
       "<div>\n",
       "<style scoped>\n",
       "    .dataframe tbody tr th:only-of-type {\n",
       "        vertical-align: middle;\n",
       "    }\n",
       "\n",
       "    .dataframe tbody tr th {\n",
       "        vertical-align: top;\n",
       "    }\n",
       "\n",
       "    .dataframe thead th {\n",
       "        text-align: right;\n",
       "    }\n",
       "</style>\n",
       "<table border=\"1\" class=\"dataframe\">\n",
       "  <thead>\n",
       "    <tr style=\"text-align: right;\">\n",
       "      <th></th>\n",
       "      <th>reviewer_id</th>\n",
       "      <th>movie_id</th>\n",
       "      <th>rating</th>\n",
       "    </tr>\n",
       "  </thead>\n",
       "  <tbody>\n",
       "    <tr>\n",
       "      <th>0</th>\n",
       "      <td>r_01</td>\n",
       "      <td>m_01</td>\n",
       "      <td>4</td>\n",
       "    </tr>\n",
       "    <tr>\n",
       "      <th>1</th>\n",
       "      <td>r_01</td>\n",
       "      <td>m_03</td>\n",
       "      <td>5</td>\n",
       "    </tr>\n",
       "    <tr>\n",
       "      <th>2</th>\n",
       "      <td>r_01</td>\n",
       "      <td>m_04</td>\n",
       "      <td>2</td>\n",
       "    </tr>\n",
       "    <tr>\n",
       "      <th>3</th>\n",
       "      <td>r_02</td>\n",
       "      <td>m_05</td>\n",
       "      <td>3</td>\n",
       "    </tr>\n",
       "    <tr>\n",
       "      <th>4</th>\n",
       "      <td>r_03</td>\n",
       "      <td>m_01</td>\n",
       "      <td>4</td>\n",
       "    </tr>\n",
       "  </tbody>\n",
       "</table>\n",
       "</div>"
      ],
      "text/plain": [
       "  reviewer_id movie_id  rating\n",
       "0        r_01     m_01       4\n",
       "1        r_01     m_03       5\n",
       "2        r_01     m_04       2\n",
       "3        r_02     m_05       3\n",
       "4        r_03     m_01       4"
      ]
     },
     "execution_count": 4,
     "metadata": {},
     "output_type": "execute_result"
    }
   ],
   "source": [
    "# the table\n",
    "df.head()"
   ]
  },
  {
   "cell_type": "code",
   "execution_count": 5,
   "metadata": {},
   "outputs": [
    {
     "data": {
      "text/html": [
       "<div>\n",
       "<style scoped>\n",
       "    .dataframe tbody tr th:only-of-type {\n",
       "        vertical-align: middle;\n",
       "    }\n",
       "\n",
       "    .dataframe tbody tr th {\n",
       "        vertical-align: top;\n",
       "    }\n",
       "\n",
       "    .dataframe thead th {\n",
       "        text-align: right;\n",
       "    }\n",
       "</style>\n",
       "<table border=\"1\" class=\"dataframe\">\n",
       "  <thead>\n",
       "    <tr style=\"text-align: right;\">\n",
       "      <th></th>\n",
       "      <th>reviewer_id</th>\n",
       "      <th>movie_id</th>\n",
       "      <th>rating</th>\n",
       "    </tr>\n",
       "  </thead>\n",
       "  <tbody>\n",
       "    <tr>\n",
       "      <th>count</th>\n",
       "      <td>20</td>\n",
       "      <td>20</td>\n",
       "      <td>20.000000</td>\n",
       "    </tr>\n",
       "    <tr>\n",
       "      <th>unique</th>\n",
       "      <td>10</td>\n",
       "      <td>6</td>\n",
       "      <td>NaN</td>\n",
       "    </tr>\n",
       "    <tr>\n",
       "      <th>top</th>\n",
       "      <td>r_10</td>\n",
       "      <td>m_03</td>\n",
       "      <td>NaN</td>\n",
       "    </tr>\n",
       "    <tr>\n",
       "      <th>freq</th>\n",
       "      <td>5</td>\n",
       "      <td>5</td>\n",
       "      <td>NaN</td>\n",
       "    </tr>\n",
       "    <tr>\n",
       "      <th>mean</th>\n",
       "      <td>NaN</td>\n",
       "      <td>NaN</td>\n",
       "      <td>3.650000</td>\n",
       "    </tr>\n",
       "    <tr>\n",
       "      <th>std</th>\n",
       "      <td>NaN</td>\n",
       "      <td>NaN</td>\n",
       "      <td>1.225819</td>\n",
       "    </tr>\n",
       "    <tr>\n",
       "      <th>min</th>\n",
       "      <td>NaN</td>\n",
       "      <td>NaN</td>\n",
       "      <td>1.000000</td>\n",
       "    </tr>\n",
       "    <tr>\n",
       "      <th>25%</th>\n",
       "      <td>NaN</td>\n",
       "      <td>NaN</td>\n",
       "      <td>3.000000</td>\n",
       "    </tr>\n",
       "    <tr>\n",
       "      <th>50%</th>\n",
       "      <td>NaN</td>\n",
       "      <td>NaN</td>\n",
       "      <td>4.000000</td>\n",
       "    </tr>\n",
       "    <tr>\n",
       "      <th>75%</th>\n",
       "      <td>NaN</td>\n",
       "      <td>NaN</td>\n",
       "      <td>5.000000</td>\n",
       "    </tr>\n",
       "    <tr>\n",
       "      <th>max</th>\n",
       "      <td>NaN</td>\n",
       "      <td>NaN</td>\n",
       "      <td>5.000000</td>\n",
       "    </tr>\n",
       "  </tbody>\n",
       "</table>\n",
       "</div>"
      ],
      "text/plain": [
       "       reviewer_id movie_id     rating\n",
       "count           20       20  20.000000\n",
       "unique          10        6        NaN\n",
       "top           r_10     m_03        NaN\n",
       "freq             5        5        NaN\n",
       "mean           NaN      NaN   3.650000\n",
       "std            NaN      NaN   1.225819\n",
       "min            NaN      NaN   1.000000\n",
       "25%            NaN      NaN   3.000000\n",
       "50%            NaN      NaN   4.000000\n",
       "75%            NaN      NaN   5.000000\n",
       "max            NaN      NaN   5.000000"
      ]
     },
     "execution_count": 5,
     "metadata": {},
     "output_type": "execute_result"
    }
   ],
   "source": [
    "df.describe(include='all')"
   ]
  },
  {
   "cell_type": "markdown",
   "metadata": {},
   "source": [
    "# Compare One Hot Encoding and Embedding\n",
    "\n",
    "The following tables show the difference between One Hot Encoding and Embedding. As it shows below, embedding maps the discrete variable into a vector of continuous numbers (weights) that represent the learned space of each movie and reviewer. The weights are used to minimize the loss function in a nn and to calculate the similarity of the movies, and the reviewers."
   ]
  },
  {
   "cell_type": "code",
   "execution_count": 6,
   "metadata": {},
   "outputs": [],
   "source": [
    "ohe = OneHotEncoder(sparse = False)\n",
    "ohe_reviewer = pd.DataFrame(ohe.fit_transform(pd.DataFrame(df['reviewer_id'])), columns = ohe.get_feature_names())\n",
    "ohe_movie = pd.DataFrame(ohe.fit_transform(pd.DataFrame(df['movie_id'])), columns = ohe.get_feature_names())\n",
    "df_1 = pd.concat([df, ohe_reviewer], axis = 1)\n",
    "df_1 = pd.concat([df_1, ohe_movie], axis = 1)"
   ]
  },
  {
   "cell_type": "code",
   "execution_count": 43,
   "metadata": {},
   "outputs": [
    {
     "data": {
      "text/html": [
       "<div>\n",
       "<style scoped>\n",
       "    .dataframe tbody tr th:only-of-type {\n",
       "        vertical-align: middle;\n",
       "    }\n",
       "\n",
       "    .dataframe tbody tr th {\n",
       "        vertical-align: top;\n",
       "    }\n",
       "\n",
       "    .dataframe thead th {\n",
       "        text-align: right;\n",
       "    }\n",
       "</style>\n",
       "<table border=\"1\" class=\"dataframe\">\n",
       "  <thead>\n",
       "    <tr style=\"text-align: right;\">\n",
       "      <th></th>\n",
       "      <th>reviewer_id</th>\n",
       "      <th>movie_id</th>\n",
       "      <th>rating</th>\n",
       "      <th>x0_r_01</th>\n",
       "      <th>x0_r_02</th>\n",
       "      <th>x0_r_03</th>\n",
       "      <th>x0_r_04</th>\n",
       "      <th>x0_r_05</th>\n",
       "      <th>x0_r_06</th>\n",
       "      <th>x0_r_07</th>\n",
       "      <th>x0_r_08</th>\n",
       "      <th>x0_r_09</th>\n",
       "      <th>x0_r_10</th>\n",
       "      <th>x0_m_01</th>\n",
       "      <th>x0_m_02</th>\n",
       "      <th>x0_m_03</th>\n",
       "      <th>x0_m_04</th>\n",
       "      <th>x0_m_05</th>\n",
       "      <th>x0_m_06</th>\n",
       "    </tr>\n",
       "  </thead>\n",
       "  <tbody>\n",
       "    <tr>\n",
       "      <th>0</th>\n",
       "      <td>r_01</td>\n",
       "      <td>m_01</td>\n",
       "      <td>4</td>\n",
       "      <td>1.0</td>\n",
       "      <td>0.0</td>\n",
       "      <td>0.0</td>\n",
       "      <td>0.0</td>\n",
       "      <td>0.0</td>\n",
       "      <td>0.0</td>\n",
       "      <td>0.0</td>\n",
       "      <td>0.0</td>\n",
       "      <td>0.0</td>\n",
       "      <td>0.0</td>\n",
       "      <td>1.0</td>\n",
       "      <td>0.0</td>\n",
       "      <td>0.0</td>\n",
       "      <td>0.0</td>\n",
       "      <td>0.0</td>\n",
       "      <td>0.0</td>\n",
       "    </tr>\n",
       "    <tr>\n",
       "      <th>1</th>\n",
       "      <td>r_01</td>\n",
       "      <td>m_03</td>\n",
       "      <td>5</td>\n",
       "      <td>1.0</td>\n",
       "      <td>0.0</td>\n",
       "      <td>0.0</td>\n",
       "      <td>0.0</td>\n",
       "      <td>0.0</td>\n",
       "      <td>0.0</td>\n",
       "      <td>0.0</td>\n",
       "      <td>0.0</td>\n",
       "      <td>0.0</td>\n",
       "      <td>0.0</td>\n",
       "      <td>0.0</td>\n",
       "      <td>0.0</td>\n",
       "      <td>1.0</td>\n",
       "      <td>0.0</td>\n",
       "      <td>0.0</td>\n",
       "      <td>0.0</td>\n",
       "    </tr>\n",
       "    <tr>\n",
       "      <th>2</th>\n",
       "      <td>r_01</td>\n",
       "      <td>m_04</td>\n",
       "      <td>2</td>\n",
       "      <td>1.0</td>\n",
       "      <td>0.0</td>\n",
       "      <td>0.0</td>\n",
       "      <td>0.0</td>\n",
       "      <td>0.0</td>\n",
       "      <td>0.0</td>\n",
       "      <td>0.0</td>\n",
       "      <td>0.0</td>\n",
       "      <td>0.0</td>\n",
       "      <td>0.0</td>\n",
       "      <td>0.0</td>\n",
       "      <td>0.0</td>\n",
       "      <td>0.0</td>\n",
       "      <td>1.0</td>\n",
       "      <td>0.0</td>\n",
       "      <td>0.0</td>\n",
       "    </tr>\n",
       "    <tr>\n",
       "      <th>3</th>\n",
       "      <td>r_02</td>\n",
       "      <td>m_05</td>\n",
       "      <td>3</td>\n",
       "      <td>0.0</td>\n",
       "      <td>1.0</td>\n",
       "      <td>0.0</td>\n",
       "      <td>0.0</td>\n",
       "      <td>0.0</td>\n",
       "      <td>0.0</td>\n",
       "      <td>0.0</td>\n",
       "      <td>0.0</td>\n",
       "      <td>0.0</td>\n",
       "      <td>0.0</td>\n",
       "      <td>0.0</td>\n",
       "      <td>0.0</td>\n",
       "      <td>0.0</td>\n",
       "      <td>0.0</td>\n",
       "      <td>1.0</td>\n",
       "      <td>0.0</td>\n",
       "    </tr>\n",
       "    <tr>\n",
       "      <th>4</th>\n",
       "      <td>r_03</td>\n",
       "      <td>m_01</td>\n",
       "      <td>4</td>\n",
       "      <td>0.0</td>\n",
       "      <td>0.0</td>\n",
       "      <td>1.0</td>\n",
       "      <td>0.0</td>\n",
       "      <td>0.0</td>\n",
       "      <td>0.0</td>\n",
       "      <td>0.0</td>\n",
       "      <td>0.0</td>\n",
       "      <td>0.0</td>\n",
       "      <td>0.0</td>\n",
       "      <td>1.0</td>\n",
       "      <td>0.0</td>\n",
       "      <td>0.0</td>\n",
       "      <td>0.0</td>\n",
       "      <td>0.0</td>\n",
       "      <td>0.0</td>\n",
       "    </tr>\n",
       "  </tbody>\n",
       "</table>\n",
       "</div>"
      ],
      "text/plain": [
       "  reviewer_id movie_id  rating  x0_r_01  x0_r_02  x0_r_03  x0_r_04  x0_r_05  \\\n",
       "0        r_01     m_01       4      1.0      0.0      0.0      0.0      0.0   \n",
       "1        r_01     m_03       5      1.0      0.0      0.0      0.0      0.0   \n",
       "2        r_01     m_04       2      1.0      0.0      0.0      0.0      0.0   \n",
       "3        r_02     m_05       3      0.0      1.0      0.0      0.0      0.0   \n",
       "4        r_03     m_01       4      0.0      0.0      1.0      0.0      0.0   \n",
       "\n",
       "   x0_r_06  x0_r_07  x0_r_08  x0_r_09  x0_r_10  x0_m_01  x0_m_02  x0_m_03  \\\n",
       "0      0.0      0.0      0.0      0.0      0.0      1.0      0.0      0.0   \n",
       "1      0.0      0.0      0.0      0.0      0.0      0.0      0.0      1.0   \n",
       "2      0.0      0.0      0.0      0.0      0.0      0.0      0.0      0.0   \n",
       "3      0.0      0.0      0.0      0.0      0.0      0.0      0.0      0.0   \n",
       "4      0.0      0.0      0.0      0.0      0.0      1.0      0.0      0.0   \n",
       "\n",
       "   x0_m_04  x0_m_05  x0_m_06  \n",
       "0      0.0      0.0      0.0  \n",
       "1      0.0      0.0      0.0  \n",
       "2      1.0      0.0      0.0  \n",
       "3      0.0      1.0      0.0  \n",
       "4      0.0      0.0      0.0  "
      ]
     },
     "execution_count": 43,
     "metadata": {},
     "output_type": "execute_result"
    }
   ],
   "source": [
    "## we can see that, after one hot encoding, the dimensions increase a lot. When we have one million reviewers, and movies, it is infeasible to run the model efficiently in this way. \n",
    "## Also, it does not show any relationship among the movies, and any relationship among reviewers \n",
    "df_1.head()"
   ]
  },
  {
   "cell_type": "markdown",
   "metadata": {},
   "source": [
    "## Embedding Process\n",
    "Embeddings are vector representations of an entity. Any discrete entity can be represented as a continuous space through Embeddings. Each item in the vector represents a feature or a combination of features for that entity.\n",
    "\n",
    "Neural network embeddings have 3 primary purposes:\n",
    "\n",
    "    1. Finding nearest neighbors in the embedding space. These can be used to make recommendations based on user interests or cluster categories.\n",
    "    2. As input to a machine learning model for a supervised task.\n",
    "    3. For visualization of concepts and relations between categories.\n",
    "\n",
    "Embeddings are learned through a neural network on a supervised task. The embeddings form the parameters (weights) of the network which are adjusted to minimize loss on the task. The resulting embedded vectors are representations of categories where similar categories are closer to one another.\n",
    "\n",
    "For example, embeddings can represent movies and user IDs in a three-demension space by assuming that these embeddings are three-dimensional vector. then We will create movie and user embeddings and train them along with a neural network. The goal is to bring users and movies in a similar embedding space so we can find the nearest ones based recommendation."
   ]
  },
  {
   "cell_type": "code",
   "execution_count": 8,
   "metadata": {},
   "outputs": [],
   "source": [
    "# label encoded movie_ID and reviewer_ID to sequential orders\n",
    "df['reviewer'] = LabelEncoder().fit_transform(df['reviewer_id'].astype(str).values)\n",
    "df['movie'] = LabelEncoder().fit_transform(df['movie_id'].astype(str).values)"
   ]
  },
  {
   "cell_type": "code",
   "execution_count": 9,
   "metadata": {},
   "outputs": [
    {
     "data": {
      "text/plain": [
       "(10, 6)"
      ]
     },
     "execution_count": 9,
     "metadata": {},
     "output_type": "execute_result"
    }
   ],
   "source": [
    "# caulcaute the input dimensions for the embedding \n",
    "n_reviewers = df['reviewer'].nunique()\n",
    "n_movies = df['movie'].nunique()\n",
    "n_reviewers, n_movies"
   ]
  },
  {
   "cell_type": "code",
   "execution_count": 14,
   "metadata": {},
   "outputs": [],
   "source": [
    "reviewer_array = np.array(df['reviewer'].values)\n",
    "movie_array = np.array(df['movie'].values)"
   ]
  },
  {
   "cell_type": "code",
   "execution_count": 15,
   "metadata": {},
   "outputs": [
    {
     "data": {
      "text/plain": [
       "<tf.Tensor: shape=(20, 3), dtype=float32, numpy=\n",
       "array([[-0.12281446,  0.80226237, -0.23804557],\n",
       "       [-0.12281446,  0.80226237, -0.23804557],\n",
       "       [-0.12281446,  0.80226237, -0.23804557],\n",
       "       [-0.22821383, -0.2805468 ,  0.52490675],\n",
       "       [ 0.5625861 ,  0.8573666 ,  0.11760359],\n",
       "       [ 0.376415  ,  0.13599898, -0.01987142],\n",
       "       [ 0.376415  ,  0.13599898, -0.01987142],\n",
       "       [-0.35855636, -0.6867275 , -0.23761088],\n",
       "       [ 0.59144694, -0.10350117, -0.11154537],\n",
       "       [-0.61023414,  0.38328964,  0.49706146],\n",
       "       [-0.61023414,  0.38328964,  0.49706146],\n",
       "       [-0.61023414,  0.38328964,  0.49706146],\n",
       "       [ 0.539804  ,  0.02265857, -0.58705366],\n",
       "       [ 0.539804  ,  0.02265857, -0.58705366],\n",
       "       [-0.5600027 ,  0.4082086 , -0.07202431],\n",
       "       [-0.13465747,  0.31302387, -0.4028944 ],\n",
       "       [-0.13465747,  0.31302387, -0.4028944 ],\n",
       "       [-0.13465747,  0.31302387, -0.4028944 ],\n",
       "       [-0.13465747,  0.31302387, -0.4028944 ],\n",
       "       [-0.13465747,  0.31302387, -0.4028944 ]], dtype=float32)>"
      ]
     },
     "execution_count": 15,
     "metadata": {},
     "output_type": "execute_result"
    }
   ],
   "source": [
    "reviewer_embedding = Embedding(input_dim=n_reviewers, output_dim=3, embeddings_initializer='he_normal',\n",
    "                      embeddings_regularizer=l2(1e-6))(reviewer_array)\n",
    "\n",
    "reviewer_embedding = Reshape((3,))(reviewer_embedding)\n",
    "reviewer_embedding "
   ]
  },
  {
   "cell_type": "code",
   "execution_count": 16,
   "metadata": {},
   "outputs": [
    {
     "data": {
      "text/plain": [
       "<tf.Tensor: shape=(20, 3), dtype=float32, numpy=\n",
       "array([[ 8.7716752e-01, -2.2328834e-01, -1.7630446e-01],\n",
       "       [ 2.4359398e-01, -8.0818379e-01,  1.5827359e-01],\n",
       "       [ 2.0876410e-04, -4.7512770e-01,  2.8327350e-02],\n",
       "       [-1.9961014e-01,  1.5970682e-01, -9.2676781e-02],\n",
       "       [ 8.7716752e-01, -2.2328834e-01, -1.7630446e-01],\n",
       "       [ 7.2325878e-02, -6.8954742e-01,  1.2015628e+00],\n",
       "       [ 2.0876410e-04, -4.7512770e-01,  2.8327350e-02],\n",
       "       [ 8.7716752e-01, -2.2328834e-01, -1.7630446e-01],\n",
       "       [ 2.4359398e-01, -8.0818379e-01,  1.5827359e-01],\n",
       "       [ 2.4359398e-01, -8.0818379e-01,  1.5827359e-01],\n",
       "       [ 2.0876410e-04, -4.7512770e-01,  2.8327350e-02],\n",
       "       [ 6.3378817e-01,  8.1881531e-02,  2.9806212e-02],\n",
       "       [ 7.2325878e-02, -6.8954742e-01,  1.2015628e+00],\n",
       "       [ 2.4359398e-01, -8.0818379e-01,  1.5827359e-01],\n",
       "       [-1.9961014e-01,  1.5970682e-01, -9.2676781e-02],\n",
       "       [ 8.7716752e-01, -2.2328834e-01, -1.7630446e-01],\n",
       "       [ 2.4359398e-01, -8.0818379e-01,  1.5827359e-01],\n",
       "       [ 2.0876410e-04, -4.7512770e-01,  2.8327350e-02],\n",
       "       [-1.9961014e-01,  1.5970682e-01, -9.2676781e-02],\n",
       "       [ 6.3378817e-01,  8.1881531e-02,  2.9806212e-02]], dtype=float32)>"
      ]
     },
     "execution_count": 16,
     "metadata": {},
     "output_type": "execute_result"
    }
   ],
   "source": [
    "## movie embedding layer\n",
    "movie_embedding = Embedding(input_dim=n_movies, output_dim=3, embeddings_initializer='he_normal',\n",
    "                      embeddings_regularizer=l2(1e-6))(movie_array)\n",
    "movie_embedding = Reshape((3,))(movie_embedding)\n",
    "movie_embedding"
   ]
  },
  {
   "cell_type": "code",
   "execution_count": 17,
   "metadata": {},
   "outputs": [
    {
     "data": {
      "text/plain": [
       "<tf.Tensor: shape=(20, 1), dtype=float32, numpy=\n",
       "array([[-0.2448962 ],\n",
       "       [-0.71596867],\n",
       "       [-0.3879459 ],\n",
       "       [-0.04789811],\n",
       "       [ 0.28130826],\n",
       "       [-0.09042995],\n",
       "       [-0.06510121],\n",
       "       [-0.11928387],\n",
       "       [ 0.21006618],\n",
       "       [-0.37974614],\n",
       "       [-0.16815847],\n",
       "       [-0.34055933],\n",
       "       [-0.68196416],\n",
       "       [ 0.02026562],\n",
       "       [ 0.18365088],\n",
       "       [-0.11697966],\n",
       "       [-0.34955013],\n",
       "       [-0.16016737],\n",
       "       [ 0.11420999],\n",
       "       [-0.07172219]], dtype=float32)>"
      ]
     },
     "execution_count": 17,
     "metadata": {},
     "output_type": "execute_result"
    }
   ],
   "source": [
    "# Layer Merge: dot product of reviewer embedding layer and movie embedding layer into one dimension, which will be used as input layer (X) in the model. \n",
    "x = Dot(axes=1)([reviewer_embedding, movie_embedding])\n",
    "x"
   ]
  },
  {
   "cell_type": "markdown",
   "metadata": {},
   "source": [
    "## Split Data & Build Models"
   ]
  },
  {
   "cell_type": "code",
   "execution_count": 18,
   "metadata": {},
   "outputs": [
    {
     "data": {
      "text/plain": [
       "((16, 2), (4, 2), (16,), (4,))"
      ]
     },
     "execution_count": 18,
     "metadata": {},
     "output_type": "execute_result"
    }
   ],
   "source": [
    "X = df[['reviewer', 'movie']].values\n",
    "y = df['rating'].values\n",
    "\n",
    "X_train, X_test, y_train, y_test = train_test_split(X, y, test_size = 0.2, random_state=42)\n",
    "\n",
    "X_train.shape, X_test.shape, y_train.shape, y_test.shape"
   ]
  },
  {
   "cell_type": "code",
   "execution_count": 19,
   "metadata": {},
   "outputs": [],
   "source": [
    "## transform the X variables into array because embedings are abstract representations of the features in numbers.\n",
    "X_train_array = [X_train[:, 0], X_train[:, 1]]\n",
    "X_test_array = [X_test[:, 0], X_test[:, 1]]"
   ]
  },
  {
   "cell_type": "markdown",
   "metadata": {},
   "source": [
    "## Build Base Model\n",
    "\n",
    "The base model has only input layer and output layer. Does not have any hidden layer"
   ]
  },
  {
   "cell_type": "code",
   "execution_count": 20,
   "metadata": {},
   "outputs": [],
   "source": [
    "def RecommenderV1(n_reviewers, n_movies, n_factors, loss, opt, metrics):\n",
    "    reviewer = Input(shape=(1,))\n",
    "    r = Embedding(n_reviewers, n_factors, embeddings_initializer='he_normal',\n",
    "                  embeddings_regularizer=l2(1e-6))(reviewer)\n",
    "    r = Reshape((n_factors,))(r)\n",
    "    \n",
    "    movie = Input(shape=(1,))\n",
    "    m = Embedding(n_movies, n_factors, embeddings_initializer='he_normal',\n",
    "                  embeddings_regularizer=l2(1e-6))(movie)\n",
    "    m = Reshape((n_factors,))(m)\n",
    "    \n",
    "    x = Dot(axes=1)([r, m])\n",
    "    model = Model(inputs=[reviewer, movie], outputs=x)\n",
    "    opt = Adam(lr=0.001)\n",
    "    model.compile(loss=loss, optimizer=opt, metrics=metrics)\n",
    "    return model"
   ]
  },
  {
   "cell_type": "code",
   "execution_count": 21,
   "metadata": {},
   "outputs": [],
   "source": [
    "loss='mean_squared_error'\n",
    "opt = Adam(lr=0.001)\n",
    "n_factors=50\n",
    "metrics=['mae']"
   ]
  },
  {
   "cell_type": "code",
   "execution_count": 22,
   "metadata": {},
   "outputs": [],
   "source": [
    "model = RecommenderV1(n_reviewers, n_movies,n_factors, loss, opt, metrics)"
   ]
  },
  {
   "cell_type": "code",
   "execution_count": 23,
   "metadata": {},
   "outputs": [
    {
     "name": "stdout",
     "output_type": "stream",
     "text": [
      "Train on 16 samples, validate on 4 samples\n",
      "Epoch 1/5\n"
     ]
    },
    {
     "name": "stderr",
     "output_type": "stream",
     "text": [
      "/Users/daihongchen/opt/anaconda3/envs/learn-env/lib/python3.6/site-packages/tensorflow_core/python/framework/indexed_slices.py:433: UserWarning: Converting sparse IndexedSlices to a dense Tensor of unknown shape. This may consume a large amount of memory.\n",
      "  \"Converting sparse IndexedSlices to a dense Tensor of unknown shape. \"\n",
      "/Users/daihongchen/opt/anaconda3/envs/learn-env/lib/python3.6/site-packages/tensorflow_core/python/framework/indexed_slices.py:433: UserWarning: Converting sparse IndexedSlices to a dense Tensor of unknown shape. This may consume a large amount of memory.\n",
      "  \"Converting sparse IndexedSlices to a dense Tensor of unknown shape. \"\n"
     ]
    },
    {
     "name": "stdout",
     "output_type": "stream",
     "text": [
      "16/16 [==============================] - 0s 21ms/sample - loss: 17.6350 - mae: 3.8845 - val_loss: 27.9111 - val_mae: 4.4436\n",
      "Epoch 2/5\n",
      "16/16 [==============================] - 0s 337us/sample - loss: 17.4048 - mae: 3.8573 - val_loss: 27.9301 - val_mae: 4.4457\n",
      "Epoch 3/5\n",
      "16/16 [==============================] - 0s 325us/sample - loss: 17.1763 - mae: 3.8301 - val_loss: 27.9490 - val_mae: 4.4478\n",
      "Epoch 4/5\n",
      "16/16 [==============================] - 0s 334us/sample - loss: 16.9496 - mae: 3.8029 - val_loss: 27.9678 - val_mae: 4.4500\n",
      "Epoch 5/5\n",
      "16/16 [==============================] - 0s 336us/sample - loss: 16.7248 - mae: 3.7756 - val_loss: 27.9867 - val_mae: 4.4521\n"
     ]
    }
   ],
   "source": [
    "history = model.fit(x=X_train_array, \n",
    "                     y=y_train, \n",
    "                     batch_size=64, \n",
    "                     epochs=5,\n",
    "                     verbose=1,\n",
    "                     validation_data=(X_test_array, y_test))"
   ]
  },
  {
   "cell_type": "code",
   "execution_count": 24,
   "metadata": {},
   "outputs": [
    {
     "data": {
      "image/png": "[encoded data removed]",
      "text/plain": [
       "<Figure size 720x360 with 1 Axes>"
      ]
     },
     "metadata": {
      "needs_background": "light"
     },
     "output_type": "display_data"
    },
    {
     "data": {
      "image/png": "[encoded data removed]",
      "text/plain": [
       "<Figure size 720x360 with 1 Axes>"
      ]
     },
     "metadata": {
      "needs_background": "light"
     },
     "output_type": "display_data"
    }
   ],
   "source": [
    "from pylab import rcParams\n",
    "rcParams['figure.figsize'] = 10, 5\n",
    "import matplotlib.pyplot as plt\n",
    "plt.plot(history.history['loss'] , 'g')\n",
    "plt.plot(history.history['val_loss'] , 'b')\n",
    "plt.title('Model Loss')\n",
    "plt.ylabel('loss')\n",
    "plt.xlabel('epoch')\n",
    "plt.legend(['train', 'test'], loc='upper left')\n",
    "plt.grid(True)\n",
    "plt.show()\n",
    "\n",
    "from pylab import rcParams\n",
    "rcParams['figure.figsize'] = 10, 5\n",
    "import matplotlib.pyplot as plt\n",
    "plt.plot(history.history['mae'] , 'g')\n",
    "plt.plot(history.history['val_mae'] , 'b')\n",
    "plt.title('Model MAE')\n",
    "plt.ylabel('MAE')\n",
    "plt.xlabel('epoch')\n",
    "plt.legend(['train', 'test'], loc='upper left')\n",
    "plt.grid(True)\n",
    "plt.show()"
   ]
  },
  {
   "cell_type": "markdown",
   "metadata": {},
   "source": [
    "## Improving Model\n",
    "\n",
    "Add Hidden Layers\n",
    "Change layer merge methods"
   ]
  },
  {
   "cell_type": "code",
   "execution_count": 25,
   "metadata": {},
   "outputs": [],
   "source": [
    "from tensorflow.keras.layers import Concatenate, Dense, Dropout\n",
    "from tensorflow.keras.layers import Add, Activation, Lambda\n",
    "\n",
    "class EmbeddingLayer:\n",
    "    def __init__(self, n_items, n_factors):\n",
    "        self.n_items = n_items\n",
    "        self.n_factors = n_factors\n",
    "    \n",
    "    def __call__(self, x):\n",
    "        x = Embedding(self.n_items, self.n_factors, embeddings_initializer='he_normal',\n",
    "                      embeddings_regularizer=l2(1e-6))(x)\n",
    "        x = Reshape((self.n_factors,))(x)\n",
    "        return x\n",
    "\n",
    "def RecommenderNet(n_reviewers, n_movies, n_factors, min_rating, max_rating):\n",
    "    reviewer = Input(shape=(1,))\n",
    "    r = EmbeddingLayer(n_reviewers, n_factors)(reviewer)\n",
    "    \n",
    "    movie = Input(shape=(1,))\n",
    "    m = EmbeddingLayer(n_movies, n_factors)(movie)\n",
    "    \n",
    "    x = Concatenate()([r, m])\n",
    "    x = Dropout(0.05)(x)\n",
    "    \n",
    "    x = Dense(10, kernel_initializer='he_normal')(x)\n",
    "    x = Activation('relu')(x)\n",
    "    x = Dropout(0.5)(x)\n",
    "    \n",
    "    x = Dense(10, kernel_initializer='he_normal')(x)\n",
    "    x = Activation('relu')(x)\n",
    "    x = Dropout(0.5)(x)\n",
    "    \n",
    "    x = Dense(1, kernel_initializer='he_normal')(x)\n",
    "    x = Activation('sigmoid')(x)\n",
    "    x = Lambda(lambda x: x * (max_rating - min_rating) + min_rating)(x)\n",
    "    model = Model(inputs=[reviewer, movie], outputs=x)\n",
    "    opt = Adam(lr=0.001)\n",
    "    model.compile(loss='mean_squared_error', optimizer=opt, metrics=['mae'])\n",
    "    return model"
   ]
  },
  {
   "cell_type": "code",
   "execution_count": 127,
   "metadata": {},
   "outputs": [],
   "source": [
    "loss='mean_squared_error'\n",
    "opt = Adam(lr=0.001)\n",
    "n_factors=3\n",
    "metrics=['mae']\n",
    "min_rating=df['rating'].min()\n",
    "max_rating=df['rating'].max()"
   ]
  },
  {
   "cell_type": "code",
   "execution_count": 128,
   "metadata": {},
   "outputs": [],
   "source": [
    "model2 = RecommenderNet(n_reviewers, n_movies, n_factors, min_rating, max_rating)"
   ]
  },
  {
   "cell_type": "code",
   "execution_count": 139,
   "metadata": {},
   "outputs": [
    {
     "name": "stdout",
     "output_type": "stream",
     "text": [
      "Train on 16 samples, validate on 4 samples\n",
      "Epoch 1/50\n",
      "16/16 [==============================] - 0s 1ms/sample - loss: 1.2772 - mae: 0.9404 - val_loss: 3.0848 - val_mae: 1.7116\n",
      "Epoch 2/50\n",
      "16/16 [==============================] - 0s 1ms/sample - loss: 2.3206 - mae: 1.1014 - val_loss: 3.0766 - val_mae: 1.7088\n",
      "Epoch 3/50\n",
      "16/16 [==============================] - 0s 791us/sample - loss: 2.6624 - mae: 1.3446 - val_loss: 3.0693 - val_mae: 1.7062\n",
      "Epoch 4/50\n",
      "16/16 [==============================] - 0s 861us/sample - loss: 1.7063 - mae: 1.2210 - val_loss: 3.0628 - val_mae: 1.7039\n",
      "Epoch 5/50\n",
      "16/16 [==============================] - 0s 787us/sample - loss: 0.9737 - mae: 0.7772 - val_loss: 3.0573 - val_mae: 1.7019\n",
      "Epoch 6/50\n",
      "16/16 [==============================] - 0s 758us/sample - loss: 2.6462 - mae: 1.3016 - val_loss: 3.0514 - val_mae: 1.6995\n",
      "Epoch 7/50\n",
      "16/16 [==============================] - 0s 869us/sample - loss: 2.3437 - mae: 1.2489 - val_loss: 3.0448 - val_mae: 1.6969\n",
      "Epoch 8/50\n",
      "16/16 [==============================] - 0s 816us/sample - loss: 2.7946 - mae: 1.3314 - val_loss: 3.0381 - val_mae: 1.6943\n",
      "Epoch 9/50\n",
      "16/16 [==============================] - 0s 746us/sample - loss: 2.9395 - mae: 1.3878 - val_loss: 3.0314 - val_mae: 1.6917\n",
      "Epoch 10/50\n",
      "16/16 [==============================] - 0s 738us/sample - loss: 1.4363 - mae: 0.9995 - val_loss: 3.0248 - val_mae: 1.6891\n",
      "Epoch 11/50\n",
      "16/16 [==============================] - 0s 818us/sample - loss: 3.2289 - mae: 1.4334 - val_loss: 3.0190 - val_mae: 1.6866\n",
      "Epoch 12/50\n",
      "16/16 [==============================] - 0s 773us/sample - loss: 1.9147 - mae: 1.0988 - val_loss: 3.0135 - val_mae: 1.6842\n",
      "Epoch 13/50\n",
      "16/16 [==============================] - 0s 773us/sample - loss: 2.0160 - mae: 1.1388 - val_loss: 3.0096 - val_mae: 1.6822\n",
      "Epoch 14/50\n",
      "16/16 [==============================] - 0s 747us/sample - loss: 3.0399 - mae: 1.4152 - val_loss: 3.0051 - val_mae: 1.6801\n",
      "Epoch 15/50\n",
      "16/16 [==============================] - 0s 750us/sample - loss: 1.5248 - mae: 1.1249 - val_loss: 3.0006 - val_mae: 1.6780\n",
      "Epoch 16/50\n",
      "16/16 [==============================] - 0s 808us/sample - loss: 1.2169 - mae: 0.9159 - val_loss: 2.9965 - val_mae: 1.6760\n",
      "Epoch 17/50\n",
      "16/16 [==============================] - 0s 767us/sample - loss: 1.4742 - mae: 1.0054 - val_loss: 2.9922 - val_mae: 1.6739\n",
      "Epoch 18/50\n",
      "16/16 [==============================] - 0s 777us/sample - loss: 1.6851 - mae: 0.9601 - val_loss: 2.9873 - val_mae: 1.6716\n",
      "Epoch 19/50\n",
      "16/16 [==============================] - 0s 780us/sample - loss: 1.5017 - mae: 0.9499 - val_loss: 2.9833 - val_mae: 1.6696\n",
      "Epoch 20/50\n",
      "16/16 [==============================] - 0s 738us/sample - loss: 2.5859 - mae: 1.3157 - val_loss: 2.9791 - val_mae: 1.6676\n",
      "Epoch 21/50\n",
      "16/16 [==============================] - 0s 724us/sample - loss: 1.0293 - mae: 0.8513 - val_loss: 2.9755 - val_mae: 1.6657\n",
      "Epoch 22/50\n",
      "16/16 [==============================] - 0s 846us/sample - loss: 1.9222 - mae: 1.0813 - val_loss: 2.9718 - val_mae: 1.6638\n",
      "Epoch 23/50\n",
      "16/16 [==============================] - 0s 786us/sample - loss: 1.8757 - mae: 1.1510 - val_loss: 2.9683 - val_mae: 1.6620\n",
      "Epoch 24/50\n",
      "16/16 [==============================] - 0s 786us/sample - loss: 1.9671 - mae: 1.1228 - val_loss: 2.9647 - val_mae: 1.6601\n",
      "Epoch 25/50\n",
      "16/16 [==============================] - 0s 774us/sample - loss: 1.9239 - mae: 1.1708 - val_loss: 2.9615 - val_mae: 1.6584\n",
      "Epoch 26/50\n",
      "16/16 [==============================] - 0s 836us/sample - loss: 1.2068 - mae: 0.8970 - val_loss: 2.9585 - val_mae: 1.6567\n",
      "Epoch 27/50\n",
      "16/16 [==============================] - 0s 814us/sample - loss: 2.3464 - mae: 1.2609 - val_loss: 2.9555 - val_mae: 1.6551\n",
      "Epoch 28/50\n",
      "16/16 [==============================] - 0s 800us/sample - loss: 2.3959 - mae: 1.2109 - val_loss: 2.9519 - val_mae: 1.6533\n",
      "Epoch 29/50\n",
      "16/16 [==============================] - 0s 764us/sample - loss: 2.5626 - mae: 1.3172 - val_loss: 2.9484 - val_mae: 1.6515\n",
      "Epoch 30/50\n",
      "16/16 [==============================] - 0s 764us/sample - loss: 2.4710 - mae: 1.2171 - val_loss: 2.9448 - val_mae: 1.6497\n",
      "Epoch 31/50\n",
      "16/16 [==============================] - 0s 840us/sample - loss: 1.8729 - mae: 1.1927 - val_loss: 2.9419 - val_mae: 1.6481\n",
      "Epoch 32/50\n",
      "16/16 [==============================] - 0s 790us/sample - loss: 2.0075 - mae: 1.2770 - val_loss: 2.9371 - val_mae: 1.6461\n",
      "Epoch 33/50\n",
      "16/16 [==============================] - 0s 774us/sample - loss: 2.1820 - mae: 0.9495 - val_loss: 2.9320 - val_mae: 1.6439\n",
      "Epoch 34/50\n",
      "16/16 [==============================] - 0s 783us/sample - loss: 1.3076 - mae: 0.9267 - val_loss: 2.9274 - val_mae: 1.6419\n",
      "Epoch 35/50\n",
      "16/16 [==============================] - 0s 765us/sample - loss: 2.3137 - mae: 1.1926 - val_loss: 2.9230 - val_mae: 1.6400\n",
      "Epoch 36/50\n",
      "16/16 [==============================] - 0s 811us/sample - loss: 1.7439 - mae: 1.0270 - val_loss: 2.9186 - val_mae: 1.6381\n",
      "Epoch 37/50\n",
      "16/16 [==============================] - 0s 799us/sample - loss: 1.0295 - mae: 0.8580 - val_loss: 2.9146 - val_mae: 1.6363\n",
      "Epoch 38/50\n",
      "16/16 [==============================] - 0s 798us/sample - loss: 2.1762 - mae: 1.1356 - val_loss: 2.9105 - val_mae: 1.6344\n",
      "Epoch 39/50\n",
      "16/16 [==============================] - 0s 795us/sample - loss: 1.0387 - mae: 0.8145 - val_loss: 2.9059 - val_mae: 1.6323\n",
      "Epoch 40/50\n",
      "16/16 [==============================] - 0s 754us/sample - loss: 0.9620 - mae: 0.8069 - val_loss: 2.9019 - val_mae: 1.6303\n",
      "Epoch 41/50\n",
      "16/16 [==============================] - 0s 806us/sample - loss: 1.5795 - mae: 1.0108 - val_loss: 2.8977 - val_mae: 1.6283\n",
      "Epoch 42/50\n",
      "16/16 [==============================] - 0s 786us/sample - loss: 1.9523 - mae: 1.1447 - val_loss: 2.8936 - val_mae: 1.6264\n",
      "Epoch 43/50\n",
      "16/16 [==============================] - 0s 771us/sample - loss: 1.3182 - mae: 1.0005 - val_loss: 2.8893 - val_mae: 1.6245\n",
      "Epoch 44/50\n",
      "16/16 [==============================] - 0s 761us/sample - loss: 2.0329 - mae: 1.0966 - val_loss: 2.8853 - val_mae: 1.6225\n",
      "Epoch 45/50\n",
      "16/16 [==============================] - 0s 756us/sample - loss: 1.0659 - mae: 0.8412 - val_loss: 2.8822 - val_mae: 1.6209\n",
      "Epoch 46/50\n",
      "16/16 [==============================] - 0s 810us/sample - loss: 1.3159 - mae: 0.8776 - val_loss: 2.8796 - val_mae: 1.6194\n",
      "Epoch 47/50\n",
      "16/16 [==============================] - 0s 830us/sample - loss: 1.8806 - mae: 0.9672 - val_loss: 2.8774 - val_mae: 1.6181\n",
      "Epoch 48/50\n",
      "16/16 [==============================] - 0s 759us/sample - loss: 0.8038 - mae: 0.7478 - val_loss: 2.8757 - val_mae: 1.6169\n",
      "Epoch 49/50\n",
      "16/16 [==============================] - 0s 755us/sample - loss: 1.1697 - mae: 0.8912 - val_loss: 2.8742 - val_mae: 1.6159\n",
      "Epoch 50/50\n",
      "16/16 [==============================] - 0s 774us/sample - loss: 1.4666 - mae: 0.9201 - val_loss: 2.8731 - val_mae: 1.6150\n"
     ]
    }
   ],
   "source": [
    "from tensorflow.keras.callbacks import TensorBoard\n",
    "\n",
    "tensorboard = TensorBoard(\n",
    "    log_dir='.\\logs',\n",
    "    histogram_freq=1,\n",
    "    write_images=True)\n",
    "\n",
    "keras_callbacks = [tensorboard]\n",
    "\n",
    "history2 = model2.fit(x=X_train_array, \n",
    "                     y=y_train, \n",
    "                     batch_size=64, \n",
    "                     epochs=50,\n",
    "                     verbose=1,\n",
    "                     validation_data=(X_test_array, y_test),\n",
    "                     callbacks=keras_callbacks)"
   ]
  },
  {
   "cell_type": "code",
   "execution_count": 142,
   "metadata": {},
   "outputs": [
    {
     "data": {
      "image/png": "[encoded data removed]",
      "text/plain": [
       "<Figure size 720x360 with 1 Axes>"
      ]
     },
     "metadata": {
      "needs_background": "light"
     },
     "output_type": "display_data"
    },
    {
     "data": {
      "image/png": "[encoded data removed]",
      "text/plain": [
       "<Figure size 720x360 with 1 Axes>"
      ]
     },
     "metadata": {
      "needs_background": "light"
     },
     "output_type": "display_data"
    }
   ],
   "source": [
    "# in Terminal, run command: tensorboard --gdir . This will create a log and have all files in. Then find the localhost: http://localhost:6006/ \n",
    "# paste the localhost in a brower, then can see all the visualization in the tensorboard. I am still trying to figure out how to save the projectors. \n",
    "\n",
    "im = plt.imread('tensorboard.png')\n",
    "# show the image \n",
    "plt.imshow(im,interpolation ='bilinear')\n",
    "plt.show()\n",
    "im_1 = plt.imread('main_graph.png')\n",
    "plt.imshow(im_1,interpolation ='bilinear')\n",
    "plt.show()"
   ]
  },
  {
   "cell_type": "code",
   "execution_count": 130,
   "metadata": {},
   "outputs": [
    {
     "data": {
      "image/png": "[encoded data removed]",
      "text/plain": [
       "<Figure size 720x360 with 1 Axes>"
      ]
     },
     "metadata": {
      "needs_background": "light"
     },
     "output_type": "display_data"
    }
   ],
   "source": [
    "from pylab import rcParams\n",
    "rcParams['figure.figsize'] = 10, 5\n",
    "import matplotlib.pyplot as plt\n",
    "plt.plot(history2.history['loss'] , 'g')\n",
    "plt.plot(history2.history['val_loss'] , 'b')\n",
    "plt.title('Model Loss')\n",
    "plt.ylabel('loss')\n",
    "plt.xlabel('epoch')\n",
    "plt.legend(['train', 'test'], loc='upper left')\n",
    "plt.grid(True)\n",
    "plt.show()"
   ]
  },
  {
   "cell_type": "code",
   "execution_count": 131,
   "metadata": {},
   "outputs": [
    {
     "data": {
      "image/png": "[encoded data removed]",
      "text/plain": [
       "<Figure size 720x360 with 1 Axes>"
      ]
     },
     "metadata": {
      "needs_background": "light"
     },
     "output_type": "display_data"
    }
   ],
   "source": [
    "from pylab import rcParams\n",
    "rcParams['figure.figsize'] = 10, 5\n",
    "import matplotlib.pyplot as plt\n",
    "plt.plot(history2.history['mae'] , 'g')\n",
    "plt.plot(history2.history['val_mae'] , 'b')\n",
    "plt.title('Model MAE')\n",
    "plt.ylabel('MAE')\n",
    "plt.xlabel('epoch')\n",
    "plt.legend(['train', 'test'], loc='upper left')\n",
    "plt.grid(True)\n",
    "plt.show()"
   ]
  },
  {
   "cell_type": "markdown",
   "metadata": {},
   "source": [
    "## Make a recommendation\n",
    "\n",
    "Warning: Due to the model performance is really poor with a few data points, the results are not accurate."
   ]
  },
  {
   "cell_type": "code",
   "execution_count": 132,
   "metadata": {},
   "outputs": [
    {
     "name": "stdout",
     "output_type": "stream",
     "text": [
      "[2 3 0]\n",
      "[3.0976007 3.0682013 2.9644017]\n"
     ]
    }
   ],
   "source": [
    "## Recommend movies for reviewer with reviewer = any number frm 0 t0 9 \n",
    "\n",
    "movie_data = np.array(list(set(df.movie)))\n",
    "## select a user using user sequetial order\n",
    "user = np.array([0 for i in range(len(movie_data))])\n",
    "predictions = model2.predict([user, movie_data])\n",
    "predictions = np.array([a[0] for a in predictions])\n",
    "recommended_movie_ids = (-predictions).argsort()[:3]\n",
    "print(recommended_movie_ids)\n",
    "print(predictions[recommended_movie_ids])"
   ]
  },
  {
   "cell_type": "code",
   "execution_count": 133,
   "metadata": {},
   "outputs": [
    {
     "data": {
      "text/html": [
       "<div>\n",
       "<style scoped>\n",
       "    .dataframe tbody tr th:only-of-type {\n",
       "        vertical-align: middle;\n",
       "    }\n",
       "\n",
       "    .dataframe tbody tr th {\n",
       "        vertical-align: top;\n",
       "    }\n",
       "\n",
       "    .dataframe thead th {\n",
       "        text-align: right;\n",
       "    }\n",
       "</style>\n",
       "<table border=\"1\" class=\"dataframe\">\n",
       "  <thead>\n",
       "    <tr style=\"text-align: right;\">\n",
       "      <th></th>\n",
       "      <th>movie_id</th>\n",
       "    </tr>\n",
       "  </thead>\n",
       "  <tbody>\n",
       "    <tr>\n",
       "      <th>0</th>\n",
       "      <td>m_01</td>\n",
       "    </tr>\n",
       "    <tr>\n",
       "      <th>1</th>\n",
       "      <td>m_03</td>\n",
       "    </tr>\n",
       "    <tr>\n",
       "      <th>2</th>\n",
       "      <td>m_04</td>\n",
       "    </tr>\n",
       "  </tbody>\n",
       "</table>\n",
       "</div>"
      ],
      "text/plain": [
       "  movie_id\n",
       "0     m_01\n",
       "1     m_03\n",
       "2     m_04"
      ]
     },
     "execution_count": 133,
     "metadata": {},
     "output_type": "execute_result"
    }
   ],
   "source": [
    "recommend = df[df['movie'].isin(recommended_movie_ids)]\n",
    "recommend = (recommend[['movie_id']]).drop_duplicates()\n",
    "recommend"
   ]
  },
  {
   "cell_type": "code",
   "execution_count": null,
   "metadata": {},
   "outputs": [],
   "source": []
  }
 ],
 "metadata": {
  "kernelspec": {
   "display_name": "Python [conda env:learn-env] *",
   "language": "python",
   "name": "conda-env-learn-env-py"
  },
  "language_info": {
   "codemirror_mode": {
    "name": "ipython",
    "version": 3
   },
   "file_extension": ".py",
   "mimetype": "text/x-python",
   "name": "python",
   "nbconvert_exporter": "python",
   "pygments_lexer": "ipython3",
   "version": "3.6.9"
  }
 },
 "nbformat": 4,
 "nbformat_minor": 4
}
